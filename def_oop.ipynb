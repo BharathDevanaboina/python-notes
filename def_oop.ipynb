{
  "nbformat": 4,
  "nbformat_minor": 0,
  "metadata": {
    "colab": {
      "provenance": [],
      "authorship_tag": "ABX9TyO7zaw9++kwNK76crhxHU6G",
      "include_colab_link": true
    },
    "kernelspec": {
      "name": "python3",
      "display_name": "Python 3"
    },
    "language_info": {
      "name": "python"
    }
  },
  "cells": [
    {
      "cell_type": "markdown",
      "metadata": {
        "id": "view-in-github",
        "colab_type": "text"
      },
      "source": [
        "<a href=\"https://colab.research.google.com/github/BharathDevanaboina/python-notes/blob/main/def_oop.ipynb\" target=\"_parent\"><img src=\"https://colab.research.google.com/assets/colab-badge.svg\" alt=\"Open In Colab\"/></a>"
      ]
    },
    {
      "cell_type": "code",
      "execution_count": 2,
      "metadata": {
        "colab": {
          "base_uri": "https://localhost:8080/"
        },
        "id": "W5qXb20HjlJZ",
        "outputId": "f662384d-1e38-44a6-aab9-9192ec109743"
      },
      "outputs": [
        {
          "output_type": "stream",
          "name": "stdout",
          "text": [
            "helo\n"
          ]
        }
      ],
      "source": [
        "print('helo')"
      ]
    },
    {
      "cell_type": "code",
      "source": [
        "def is_even_not(num):\n",
        "  \"\"\"\n",
        "  This is the first def function, to check for wheather the value are even odd\n",
        "  \"\"\"\n",
        "\n",
        "  if num %2 == 0:\n",
        "    return 'even'\n",
        "  else:\n",
        "    return 'odd'\n",
        "\n",
        "\n",
        " #function to test above function.\n",
        "\n",
        "for i in range ( 1, 10):\n",
        "  x = is_even_not(i)\n",
        "  print(x)\n"
      ],
      "metadata": {
        "colab": {
          "base_uri": "https://localhost:8080/"
        },
        "id": "yzKbXe6_jqGm",
        "outputId": "2bbdd07a-50a0-408a-d3ac-33cfaa67fa65"
      },
      "execution_count": 4,
      "outputs": [
        {
          "output_type": "stream",
          "name": "stdout",
          "text": [
            "odd\n",
            "even\n",
            "odd\n",
            "even\n",
            "odd\n",
            "even\n",
            "odd\n",
            "even\n",
            "odd\n"
          ]
        }
      ]
    },
    {
      "cell_type": "code",
      "source": [
        "#args is the data type of tuple, whatever the function we can apply in tuple, we can apply in the args ( so basically, args will make mutiple aurguments, it is not that args, is not the keyword, \"*\" and type any word whichever the word you want to give, it will work )\n",
        "\n",
        "def yes(*args):\n",
        "  product = 1\n",
        "\n",
        "  for i in args:\n",
        "    product *= i\n",
        "  return product\n",
        "\n",
        "\n",
        "yes(5,55,78,85)"
      ],
      "metadata": {
        "colab": {
          "base_uri": "https://localhost:8080/"
        },
        "id": "X6AIwfIQxb1M",
        "outputId": "36470af8-33c0-4ced-ef93-bb70e61830eb"
      },
      "execution_count": 9,
      "outputs": [
        {
          "output_type": "execute_result",
          "data": {
            "text/plain": [
              "1823250"
            ]
          },
          "metadata": {},
          "execution_count": 9
        }
      ]
    },
    {
      "cell_type": "code",
      "source": [
        "yes(1)"
      ],
      "metadata": {
        "colab": {
          "base_uri": "https://localhost:8080/"
        },
        "id": "JRLfmsaW-wIA",
        "outputId": "f6c7d402-0d2e-4200-8b35-5baf425eb70b"
      },
      "execution_count": 6,
      "outputs": [
        {
          "output_type": "execute_result",
          "data": {
            "text/plain": [
              "1"
            ]
          },
          "metadata": {},
          "execution_count": 6
        }
      ]
    },
    {
      "cell_type": "code",
      "source": [
        "yes(1,2,3)"
      ],
      "metadata": {
        "colab": {
          "base_uri": "https://localhost:8080/"
        },
        "id": "ygSPnwjo-x2c",
        "outputId": "681deb8c-bf6a-47e5-c5ce-22186cae5f47"
      },
      "execution_count": 7,
      "outputs": [
        {
          "output_type": "execute_result",
          "data": {
            "text/plain": [
              "6"
            ]
          },
          "metadata": {},
          "execution_count": 7
        }
      ]
    },
    {
      "cell_type": "code",
      "source": [
        "print(tuple.__doc__)"
      ],
      "metadata": {
        "colab": {
          "base_uri": "https://localhost:8080/"
        },
        "id": "bUYlzQai-0Jd",
        "outputId": "96069b0d-5a9f-4404-f795-1614ac851a9e"
      },
      "execution_count": 12,
      "outputs": [
        {
          "output_type": "stream",
          "name": "stdout",
          "text": [
            "Built-in immutable sequence.\n",
            "\n",
            "If no argument is given, the constructor returns an empty tuple.\n",
            "If iterable is specified the tuple is initialized from iterable's items.\n",
            "\n",
            "If the argument is a tuple, the return value is the same object.\n"
          ]
        }
      ]
    },
    {
      "cell_type": "code",
      "source": [
        "# when we give \"  ** \", it will workes as dictory, not as tuple, whatevet the function avaible in the dict, we can use same function as well\n",
        "\n",
        "def display (**dic):\n",
        "  for (key,value) in dic.items():\n",
        "    print( key, '=>' ,value)\n",
        "\n",
        "\n",
        "display(yes = 'no', right = 'left', up = 'down')\n",
        "\n"
      ],
      "metadata": {
        "colab": {
          "base_uri": "https://localhost:8080/"
        },
        "id": "6D3-6oAIAWhP",
        "outputId": "d30712e4-ae1d-4f25-c44b-501bcdc02c37"
      },
      "execution_count": 17,
      "outputs": [
        {
          "output_type": "stream",
          "name": "stdout",
          "text": [
            "yes => no\n",
            "right => left\n",
            "up => down\n"
          ]
        }
      ]
    },
    {
      "cell_type": "code",
      "source": [
        "def f():\n",
        "  def g():\n",
        "    print('inside function g')\n",
        "  print('outside function g')"
      ],
      "metadata": {
        "id": "KzA67TeNEi6w"
      },
      "execution_count": 18,
      "outputs": []
    },
    {
      "cell_type": "code",
      "source": [
        "f()"
      ],
      "metadata": {
        "colab": {
          "base_uri": "https://localhost:8080/"
        },
        "id": "DVQExlRasJKo",
        "outputId": "e4c2365e-207d-46f9-9883-0cf758131b0e"
      },
      "execution_count": 19,
      "outputs": [
        {
          "output_type": "stream",
          "name": "stdout",
          "text": [
            "outside function g\n"
          ]
        }
      ]
    },
    {
      "cell_type": "code",
      "source": [],
      "metadata": {
        "id": "Ww2lJBO1sJ_D"
      },
      "execution_count": null,
      "outputs": []
    }
  ]
}